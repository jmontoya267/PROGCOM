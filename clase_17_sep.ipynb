{
  "nbformat": 4,
  "nbformat_minor": 0,
  "metadata": {
    "colab": {
      "provenance": []
    },
    "kernelspec": {
      "name": "python3",
      "display_name": "Python 3"
    },
    "language_info": {
      "name": "python"
    }
  },
  "cells": [
    {
      "cell_type": "markdown",
      "source": [
        "#1. Crear el programa que solicite el nombre y el código de un estudiante y que luego lo imprima,junto con el logo de la institución educativa perteneciente.\n",
        "\n",
        "Ejemplo:\n",
        "Digite su nombre: Sonia Smith\n",
        "Digite su código: U000582515\n",
        "El programa imprimirá:\n",
        "UNIVERSIDAD AUTÓNOMA DE BUCARAMANGA\n",
        "Nombre del estudiante: Sonia Smith\n",
        "Código: U000582515"
      ],
      "metadata": {
        "id": "IfpbLfY_aytn"
      }
    },
    {
      "cell_type": "code",
      "source": [
        "n = (input(\"Ingrese su nombre: \"))\n",
        "c = (input(\"Ingrese su código: \"))\n",
        "print(\"UNIVERSIDAD AUTÓNOMA DE BUCARAMANGA\")\n",
        "print(f\"Nombre del estudiante: {n}\")\n",
        "print(f\"Código: {c}\")"
      ],
      "metadata": {
        "colab": {
          "base_uri": "https://localhost:8080/"
        },
        "id": "GlwlrHD0UxjV",
        "outputId": "a65f6661-00a8-41ed-c263-5dd3a06c1346"
      },
      "execution_count": 1,
      "outputs": [
        {
          "output_type": "stream",
          "name": "stdout",
          "text": [
            "Ingrese su nombre: juan felipe montoya\n",
            "Ingrese su código: U000582515\n",
            "UNIVERSIDAD AUTÓNOMA DE BUCARAMANGA\n",
            "Nombre del estudiante: juan felipe montoya\n",
            "Código: U000582515\n"
          ]
        }
      ]
    },
    {
      "cell_type": "markdown",
      "source": [
        "#2. Diseñe un algoritmo para calcular el volumen de un cono.\n"
      ],
      "metadata": {
        "id": "487B-NN5cjB-"
      }
    },
    {
      "cell_type": "code",
      "source": [
        "h = float(input(\"Ingrese la altura del cono: \"))\n",
        "r = float(input(\"Ingrese el radio de la base del cono: \"))\n",
        "\n",
        "v = (1/3)*3.1416*(r**2)*h\n",
        "print(f\"El volumen del cono es: {v}\")\n",
        "\n"
      ],
      "metadata": {
        "colab": {
          "base_uri": "https://localhost:8080/"
        },
        "id": "zxjN6PNYciYW",
        "outputId": "525a3281-8698-4681-bce4-60042caca92f"
      },
      "execution_count": 2,
      "outputs": [
        {
          "output_type": "stream",
          "name": "stdout",
          "text": [
            "Ingrese la altura del cono: 5\n",
            "Ingrese el radio de la base del cono: 8\n",
            "El volumen del cono es: 335.104\n"
          ]
        }
      ]
    },
    {
      "cell_type": "markdown",
      "source": [
        "#3. Dado el conjunto de n servidores que apoyen una red de computadores, diseñe un programa que calcule el número total de conexiones entre los servidores que soportan la red."
      ],
      "metadata": {
        "id": "lwKkMG9LdMzd"
      }
    },
    {
      "cell_type": "code",
      "source": [
        "n = int(input(\"Ingrese el número de servidores: \"))\n",
        "conexiones = (n * (n - 1)) / 2\n",
        "print(f\"El número total de conexiones entre los servidores es: {conexiones}\")\n"
      ],
      "metadata": {
        "colab": {
          "base_uri": "https://localhost:8080/"
        },
        "id": "9_RNoNJIdMe-",
        "outputId": "591c589b-260b-467f-9dcb-2ca771fb0bfc"
      },
      "execution_count": 3,
      "outputs": [
        {
          "output_type": "stream",
          "name": "stdout",
          "text": [
            "Ingrese el número de servidores: 3\n",
            "El número total de conexiones entre los servidores es: 3.0\n"
          ]
        }
      ]
    },
    {
      "cell_type": "markdown",
      "source": [
        "#4. Diseñe un algoritmo que lea temperatura en grados centígrados (oC) y la convierta en grados Fahrenheit (oF) y a grados Kelvin (oK)."
      ],
      "metadata": {
        "id": "nCeVrobEduxd"
      }
    },
    {
      "cell_type": "code",
      "source": [
        "c = float(input(\"Ingrese la temperatura en grados Celsius: \"))\n",
        "f = (c * 9/5) + 32\n",
        "k = c + 273.15\n",
        "print(f\"La temperatura en grados Fahrenheit es: {f}\")\n",
        "print(f\"La temperatura en grados Kelvin es: {k}\")\n"
      ],
      "metadata": {
        "colab": {
          "base_uri": "https://localhost:8080/"
        },
        "id": "63rTZUWdbdQf",
        "outputId": "abad4f19-d412-4d54-db23-3c9ace007618"
      },
      "execution_count": 4,
      "outputs": [
        {
          "output_type": "stream",
          "name": "stdout",
          "text": [
            "Ingrese la temperatura en grados Celsius: 27\n",
            "La temperatura en grados Fahrenheit es: 80.6\n",
            "La temperatura en grados Kelvin es: 300.15\n"
          ]
        }
      ]
    },
    {
      "cell_type": "markdown",
      "source": [
        "#5. Diseñar el programa de un robot, que le permita contestar a ciertos requerimientos del usuario (se supone que el usuario sólo cuenta con una petición). Se debe programar los artículos y los precios de los mismos. El robot debe al menos: Dar la bienvenida al cliente. Indicar el precio del artículo que seleccionó el usuario."
      ],
      "metadata": {
        "id": "vrpFwH_GeKEt"
      }
    },
    {
      "cell_type": "code",
      "source": [
        "print(\"¡Hola! Bienvenido a nuestro servicio de atención al cliente.\")\n",
        "\n",
        "articulo = input(\"¿Qué artículo te interesa? \")\n",
        "\n",
        "if articulo == \"manzana\":\n",
        "  print(\"El precio de la manzana es $1.00.\")\n",
        "elif articulo == \"banana\":\n",
        "  print(\"El precio de la banana es $0.50.\")\n",
        "elif articulo == \"naranja\":\n",
        "  print(\"El precio de la naranja es $0.75.\")\n",
        "else:\n",
        "  print(\"Lo siento, no tenemos ese artículo en stock.\")\n"
      ],
      "metadata": {
        "colab": {
          "base_uri": "https://localhost:8080/"
        },
        "id": "uCKA5vXCeEut",
        "outputId": "1c69aed6-c561-4c55-faa1-d593caca8dda"
      },
      "execution_count": 6,
      "outputs": [
        {
          "output_type": "stream",
          "name": "stdout",
          "text": [
            "¡Hola! Bienvenido a nuestro servicio de atención al cliente.\n",
            "¿Qué artículo te interesa? manzana\n",
            "El precio de la manzana es $1.00.\n"
          ]
        }
      ]
    },
    {
      "cell_type": "markdown",
      "source": [
        "#6. Diseñe un programa que le permita calcular la resistencia total Rx. Considere que las n resistencias pueden estar en serie o en paralelo."
      ],
      "metadata": {
        "id": "QJ97UY-setHl"
      }
    },
    {
      "cell_type": "code",
      "source": [
        "n = int(input(\"Ingrese el número de resistencias: \"))\n",
        "resistencias = []\n",
        "for i in range(n):\n",
        "  r = float(input(f\"Ingrese el valor de la resistencia {i+1}: \"))\n",
        "  resistencias.append(r)\n",
        "\n",
        "tipo_conexion = input(\"Ingrese el tipo de conexión (serie o paralelo): \")\n",
        "\n",
        "if tipo_conexion == \"serie\":\n",
        "  rx = 0\n",
        "  for r in resistencias:\n",
        "    rx += r\n",
        "  print(f\"La resistencia total en serie es: {rx}\")\n",
        "\n",
        "elif tipo_conexion == \"paralelo\":\n",
        "  rx = 0\n",
        "  for r in resistencias:\n",
        "    if r != 0:\n",
        "      rx += 1 / r\n",
        "  rx = 1 / rx\n",
        "  print(f\"La resistencia total en paralelo es: {rx}\")\n",
        "\n",
        "else:\n",
        "  print(\"Tipo de conexión inválido.\")\n"
      ],
      "metadata": {
        "colab": {
          "base_uri": "https://localhost:8080/"
        },
        "id": "2j2WNiLIfyFE",
        "outputId": "3f8a2e25-d6e0-4cb2-de9d-8968e8547911"
      },
      "execution_count": 8,
      "outputs": [
        {
          "output_type": "stream",
          "name": "stdout",
          "text": [
            "Ingrese el número de resistencias: 4\n",
            "Ingrese el valor de la resistencia 1: 50\n",
            "Ingrese el valor de la resistencia 2: 60\n",
            "Ingrese el valor de la resistencia 3: 40\n",
            "Ingrese el valor de la resistencia 4: 80\n",
            "Ingrese el tipo de conexión (serie o paralelo): serie \n",
            "Tipo de conexión inválido.\n"
          ]
        }
      ]
    },
    {
      "cell_type": "markdown",
      "source": [
        "#7. Diseñe un algoritmo que lea temperatura en grados centígrados (oC) y la convierta en grados Fahrenheit (oF) y a grados Kelvin oK), siempre y cuando la temperatura dada en grados sea positiva."
      ],
      "metadata": {
        "id": "Jb_P0z2EfaL8"
      }
    },
    {
      "cell_type": "code",
      "source": [
        "c = float(input(\"Ingrese la temperatura en grados Celsius: \"))\n",
        "\n",
        "if c > 0:\n",
        "  f = (c * 9/5) + 32\n",
        "  k = c + 273.15\n",
        "  print(f\"La temperatura en grados Fahrenheit es: {f}\")\n",
        "  print(f\"La temperatura en grados Kelvin es: {k}\")\n",
        "else:\n",
        "  print(\"La temperatura debe ser positiva.\")\n"
      ],
      "metadata": {
        "colab": {
          "base_uri": "https://localhost:8080/"
        },
        "id": "MQPR_1vUfWgs",
        "outputId": "c1ae81cf-75f9-4b3c-90d4-21e0fc17714b"
      },
      "execution_count": 9,
      "outputs": [
        {
          "output_type": "stream",
          "name": "stdout",
          "text": [
            "Ingrese la temperatura en grados Celsius: 27\n",
            "La temperatura en grados Fahrenheit es: 80.6\n",
            "La temperatura en grados Kelvin es: 300.15\n"
          ]
        }
      ]
    },
    {
      "cell_type": "markdown",
      "source": [
        "#8. Dado dos enteros: horas(h) y minutos (m), representativos del tiempo en horas y minutos dado por un reloj de 24 horas, convierta el tiempo dado por el reloj de 24 horas a un reloj que obtenga el tiempo cada 12 horas."
      ],
      "metadata": {
        "id": "2YnA0eqMgfZb"
      }
    },
    {
      "cell_type": "code",
      "source": [
        "h = int(input(\"Ingrese las horas: \"))\n",
        "m = int(input(\"Ingrese los minutos: \"))\n",
        "\n",
        "if h > 12:\n",
        "  h = h - 12\n",
        "  print(f\"{h}:{m} PM\")\n",
        "elif h == 12:\n",
        "  print(f\"{h}:{m} PM\")\n",
        "elif h == 0:\n",
        "  print(f\"12:{m} AM\")\n",
        "else:\n",
        "  print(f\"{h}:{m} AM\")\n"
      ],
      "metadata": {
        "colab": {
          "base_uri": "https://localhost:8080/"
        },
        "id": "LtUmsQfGgdoa",
        "outputId": "82c98590-6382-4f6d-fa2d-ff6cf8fa1f66"
      },
      "execution_count": 12,
      "outputs": [
        {
          "output_type": "stream",
          "name": "stdout",
          "text": [
            "Ingrese las horas: 2\n",
            "Ingrese los minutos: 40\n",
            "2:40 AM\n"
          ]
        }
      ]
    },
    {
      "cell_type": "markdown",
      "source": [
        "#9. Crear el programa que solicite el nombre y el código de n estudiantes. Dependiendo del código, clasifique la carrera del estudiante y que luego lo imprima, junto con el nombre de la institución educativa perteneciente.\n",
        "Ejemplo:\n",
        "Digite su nombre: Sonia Smith\n",
        "Digite su código: U000582515\n",
        "El programa imprimirá:\n",
        "UNIVERSIDAD AUTÓNOMA DE BUCARAMANGA\n",
        "Nombre del estudiante: Sonia Smith\n",
        "Código: U000382515\n",
        "Carrera: Ingeniería Mectrónica.\n",
        "Considere que los programas están dados por los cuatro primeros números después de la U del\n",
        "código:\n",
        "0001: Telecomunicaciones\n",
        "0002: Financiera\n",
        "0003: Mecatrónica\n",
        "0004: (una de su elección)"
      ],
      "metadata": {
        "id": "LN4zgWl4g61K"
      }
    },
    {
      "cell_type": "code",
      "source": [
        "\n",
        "\n",
        "n = int(input(\"Ingrese el número de estudiantes: \"))\n",
        "\n",
        "for i in range(n):\n",
        "  nombre = input(\"Digite su nombre: \")\n",
        "  codigo = input(\"Digite su código: \")\n",
        "\n",
        "  carrera = \"\"\n",
        "  if codigo[1:5] == \"0001\":\n",
        "    carrera = \"Telecomunicaciones\"\n",
        "  elif codigo[1:5] == \"0002\":\n",
        "    carrera = \"Financiera\"\n",
        "  elif codigo[1:5] == \"0003\":\n",
        "    carrera = \"Mecatrónica\"\n",
        "  elif codigo[1:5] == \"0004\":\n",
        "    carrera = \"Ingeniería de Sistemas\"\n",
        "  else:\n",
        "    carrera = \"Carrera no encontrada\"\n",
        "\n",
        "\n",
        "  print(\"UNIVERSIDAD AUTÓNOMA DE BUCARAMANGA\")\n",
        "  print(f\"Nombre del estudiante: {nombre}\")\n",
        "  print(f\"Código: {codigo}\")\n",
        "  print(f\"Carrera: {carrera}\")\n"
      ],
      "metadata": {
        "colab": {
          "base_uri": "https://localhost:8080/"
        },
        "id": "MZr87bPFg3mr",
        "outputId": "ea88f818-af9c-44c3-a81f-20bbf6bd728d"
      },
      "execution_count": 18,
      "outputs": [
        {
          "output_type": "stream",
          "name": "stdout",
          "text": [
            "Ingrese el número de estudiantes: 1\n",
            "Digite su nombre: siuuu\n",
            "Digite su código: U0001\n",
            "UNIVERSIDAD AUTÓNOMA DE BUCARAMANGA\n",
            "Nombre del estudiante: siuuu\n",
            "Código: U0001\n",
            "Carrera: Telecomunicaciones\n"
          ]
        }
      ]
    },
    {
      "cell_type": "markdown",
      "source": [
        "#10. Diseñe un algoritmo que ejecute las funciones trigonométricas sen(x), cos(x) y tan(x) sujetas a la selección de las opciones asociadas así: Opción 1 para la función seno, opción 2 para la función coseno y opción 3 para el cálculo de la tangente, siendo el valor de x un argumento de entrada dado en grados."
      ],
      "metadata": {
        "id": "wTYjLFiZiOJq"
      }
    },
    {
      "cell_type": "code",
      "source": [
        "import math\n",
        "\n",
        "opcion = int(input(\"Seleccione una opción:\\n1. Seno\\n2. Coseno\\n3. Tangente\\nOpción: \"))\n",
        "x = float(input(\"Ingrese el valor de x en grados: \"))\n",
        "\n",
        "x_rad = math.radians(x)\n",
        "\n",
        "if opcion == 1:\n",
        "  resultado = math.sin(x_rad)\n",
        "  print(f\"El seno de {x} grados es: {resultado}\")\n",
        "elif opcion == 2:\n",
        "  resultado = math.cos(x_rad)\n",
        "  print(f\"El coseno de {x} grados es: {resultado}\")\n",
        "elif opcion == 3:\n",
        "  resultado = math.tan(x_rad)\n",
        "  print(f\"La tangente de {x} grados es: {resultado}\")\n",
        "else:\n",
        "  print(\"Opción inválida.\")\n",
        "\n"
      ],
      "metadata": {
        "colab": {
          "base_uri": "https://localhost:8080/"
        },
        "id": "4HH81JvohpfJ",
        "outputId": "3424980a-c5dc-4bc1-9bb3-95e99eba838b"
      },
      "execution_count": 15,
      "outputs": [
        {
          "output_type": "stream",
          "name": "stdout",
          "text": [
            "Seleccione una opción:\n",
            "1. Seno\n",
            "2. Coseno\n",
            "3. Tangente\n",
            "Opción: 1\n",
            "Ingrese el valor de x en grados: 45\n",
            "El seno de 45.0 grados es: 0.7071067811865475\n"
          ]
        }
      ]
    },
    {
      "cell_type": "code",
      "source": [],
      "metadata": {
        "id": "lD5X0tNNigLA"
      },
      "execution_count": null,
      "outputs": []
    }
  ]
}
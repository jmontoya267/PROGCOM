{
  "nbformat": 4,
  "nbformat_minor": 0,
  "metadata": {
    "colab": {
      "provenance": []
    },
    "kernelspec": {
      "name": "python3",
      "display_name": "Python 3"
    },
    "language_info": {
      "name": "python"
    }
  },
  "cells": [
    {
      "cell_type": "markdown",
      "source": [
        "#calculadora para cosntos de producion de un producto en una empresa\n"
      ],
      "metadata": {
        "id": "GjsvIXSorEO4"
      }
    },
    {
      "cell_type": "code",
      "execution_count": 2,
      "metadata": {
        "colab": {
          "base_uri": "https://localhost:8080/"
        },
        "id": "TD9djBqDqWUB",
        "outputId": "a903ffbb-4e1b-43ee-d116-3b7aa0037b69"
      },
      "outputs": [
        {
          "output_type": "stream",
          "name": "stdout",
          "text": [
            "Calculadora de costos de producción y precio de venta estimado\n",
            "Introduce los costos fijos totales (en la moneda local): 5000\n",
            "Introduce el costo variable por unidad (en la moneda local): 2000\n",
            "Introduce la cantidad de unidades que se espera producir: 800\n",
            "Introduce el porcentaje de ganancia deseado (%): 30\n",
            "\n",
            "Costo total de producción: 1605000.00\n",
            "Precio de venta por unidad necesario para obtener una ganancia del 30.0%: 2608.12\n"
          ]
        }
      ],
      "source": [
        "# Función para calcular los costos y el precio de venta\n",
        "def calcular_precio_venta(costos_fijos, costo_variable_unitario, cantidad_unidades, porcentaje_ganancia):\n",
        "    # Calcular el costo total de producción\n",
        "    costo_total_produccion = costos_fijos + (costo_variable_unitario * cantidad_unidades)\n",
        "\n",
        "    # Calcular el costo por unidad\n",
        "    costo_por_unidad = costo_total_produccion / cantidad_unidades\n",
        "\n",
        "    # Calcular el precio de venta para obtener la ganancia deseada\n",
        "    precio_venta_por_unidad = costo_por_unidad * (1 + (porcentaje_ganancia / 100))\n",
        "\n",
        "    return precio_venta_por_unidad, costo_total_produccion\n",
        "\n",
        "# Función para interactuar con el usuario\n",
        "def interactuar_con_usuario():\n",
        "    print(\"Calculadora de costos de producción y precio de venta estimado\")\n",
        "\n",
        "    # Solicitar los valores al usuario\n",
        "    costos_fijos = float(input(\"Introduce los costos fijos totales (en la moneda local): \"))\n",
        "    costo_variable_unitario = float(input(\"Introduce el costo variable por unidad (en la moneda local): \"))\n",
        "    cantidad_unidades = int(input(\"Introduce la cantidad de unidades que se espera producir: \"))\n",
        "    porcentaje_ganancia = float(input(\"Introduce el porcentaje de ganancia deseado (%): \"))\n",
        "\n",
        "    # Calcular el precio de venta\n",
        "    precio_venta, costo_total = calcular_precio_venta(costos_fijos, costo_variable_unitario, cantidad_unidades, porcentaje_ganancia)\n",
        "\n",
        "    # Mostrar los resultados\n",
        "    print(f\"\\nCosto total de producción: {costo_total:.2f}\")\n",
        "    print(f\"Precio de venta por unidad necesario para obtener una ganancia del {porcentaje_ganancia}%: {precio_venta:.2f}\")\n",
        "\n",
        "# Ejecutar la interacción con el usuario\n",
        "interactuar_con_usuario()\n"
      ]
    }
  ]
}
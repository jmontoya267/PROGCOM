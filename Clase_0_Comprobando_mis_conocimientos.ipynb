{
  "nbformat": 4,
  "nbformat_minor": 0,
  "metadata": {
    "colab": {
      "provenance": [],
      "toc_visible": true
    },
    "kernelspec": {
      "name": "python3",
      "display_name": "Python 3"
    },
    "language_info": {
      "name": "python"
    }
  },
  "cells": [
    {
      "cell_type": "markdown",
      "source": [
        "#PRUEBA DE EVALUACIÓN DE CONOCIMIENTOS"
      ],
      "metadata": {
        "id": "4D8hTGDiFY1r"
      }
    },
    {
      "cell_type": "markdown",
      "source": [
        "##TIPO DE DATOS\n",
        "1. Numérico\n",
        "- Entero: int\n",
        "- Decimal: float\n",
        "2. Alfanumerico o cadena de caracteres.\n",
        "(String - str)\n",
        "3. Logico: Boolean - bool\n",
        "4. Lista: list [ ]\n",
        "5. Diccionario: dict { }\n",
        "\n",
        "Para saber qué tipo de datos estamos manipulando, se usa la función type ()"
      ],
      "metadata": {
        "id": "KR-3DP_JF7gb"
      }
    },
    {
      "cell_type": "code",
      "execution_count": null,
      "metadata": {
        "colab": {
          "base_uri": "https://localhost:8080/"
        },
        "id": "ZT1sEKQME51v",
        "outputId": "7209d6a0-19c3-449b-be4d-6a069d768e64"
      },
      "outputs": [
        {
          "output_type": "execute_result",
          "data": {
            "text/plain": [
              "17"
            ]
          },
          "metadata": {},
          "execution_count": 1
        }
      ],
      "source": [
        "5+3*4"
      ]
    },
    {
      "cell_type": "code",
      "source": [
        "type(5+3*4)"
      ],
      "metadata": {
        "colab": {
          "base_uri": "https://localhost:8080/"
        },
        "id": "1zdx1DkKGdf6",
        "outputId": "febfec20-1250-4461-f51c-07796b51076c"
      },
      "execution_count": null,
      "outputs": [
        {
          "output_type": "execute_result",
          "data": {
            "text/plain": [
              "int"
            ]
          },
          "metadata": {},
          "execution_count": 2
        }
      ]
    },
    {
      "cell_type": "code",
      "source": [
        "print(f\"5+3*4={5+3*4} y da como resultado un valor de tipo {type(5+3*4)}\")"
      ],
      "metadata": {
        "colab": {
          "base_uri": "https://localhost:8080/"
        },
        "id": "gWF6HlS6Hbnm",
        "outputId": "8a19d682-77e6-43cb-a402-89754a2674b8"
      },
      "execution_count": null,
      "outputs": [
        {
          "output_type": "stream",
          "name": "stdout",
          "text": [
            "5+3*4=17 y da como resultado un valor de tipo <class 'int'>\n"
          ]
        }
      ]
    },
    {
      "cell_type": "code",
      "source": [
        "\"3\"*2"
      ],
      "metadata": {
        "colab": {
          "base_uri": "https://localhost:8080/",
          "height": 35
        },
        "id": "LFC2fv_sHk--",
        "outputId": "54290b1c-c629-43b2-a9b8-ba8c36d35b25"
      },
      "execution_count": null,
      "outputs": [
        {
          "output_type": "execute_result",
          "data": {
            "text/plain": [
              "'33'"
            ],
            "application/vnd.google.colaboratory.intrinsic+json": {
              "type": "string"
            }
          },
          "metadata": {},
          "execution_count": 5
        }
      ]
    },
    {
      "cell_type": "code",
      "source": [
        "#Cuando se usa + en strings, sucede la concatenación\n",
        "\"5\" + \"3\" * 2"
      ],
      "metadata": {
        "colab": {
          "base_uri": "https://localhost:8080/",
          "height": 35
        },
        "id": "bPVYDjZjH_e5",
        "outputId": "14bb5c99-a567-496b-8c0b-36685a658209"
      },
      "execution_count": null,
      "outputs": [
        {
          "output_type": "execute_result",
          "data": {
            "text/plain": [
              "'533'"
            ],
            "application/vnd.google.colaboratory.intrinsic+json": {
              "type": "string"
            }
          },
          "metadata": {},
          "execution_count": 6
        }
      ]
    },
    {
      "cell_type": "code",
      "source": [
        "type(\"5\" + \"3\" * 2)"
      ],
      "metadata": {
        "colab": {
          "base_uri": "https://localhost:8080/"
        },
        "id": "gvmxHnSXIaHg",
        "outputId": "ff2f80ae-379a-496b-98bd-cd303e1affb1"
      },
      "execution_count": null,
      "outputs": [
        {
          "output_type": "execute_result",
          "data": {
            "text/plain": [
              "str"
            ]
          },
          "metadata": {},
          "execution_count": 7
        }
      ]
    },
    {
      "cell_type": "code",
      "source": [
        "#= es asignación. == es comparación\n",
        "2 ** 11 == 1000"
      ],
      "metadata": {
        "colab": {
          "base_uri": "https://localhost:8080/"
        },
        "id": "Q-nD3J0UI4MI",
        "outputId": "ba796e22-5a9d-414b-8053-2f55898253ce"
      },
      "execution_count": null,
      "outputs": [
        {
          "output_type": "execute_result",
          "data": {
            "text/plain": [
              "False"
            ]
          },
          "metadata": {},
          "execution_count": 9
        }
      ]
    },
    {
      "cell_type": "markdown",
      "source": [
        "##OPERACIONES LOGICAS\n",
        "1. Disyunción (o): Una proposición es verdadera, si al menos una de ella lo es.\n",
        "En python se puede enunciar con la palabra **or** o con **||**.\n",
        "\n",
        "Ejemplo V or V = V\n",
        "V or F = V\n",
        "F or V = V\n",
        "F or F = F\n",
        "\n",
        "2. Conjunción (y): Una proposición es verdadera, si Y SOLO SI, ambas preposiciones son verdaderas. En python, se utiliza la palabra **and** o **&&** para su uso.\n",
        "\n",
        "Ejemplo F and F = F\n",
        "F and V = F\n",
        "V and V = V\n",
        "\n",
        "3. Negación (no): Niega el valor de verdad de una proposición. Si el valor de verdad es true, se vuelve false. En python se usa la palabra **not** o ~ para denotarla."
      ],
      "metadata": {
        "id": "xpYZYhxUJgzQ"
      }
    },
    {
      "cell_type": "code",
      "source": [
        "print(f\"La expresion 2 ** 11 == 1000 or 2 ** 9 == 100 da: {2 ** 11 == 1000 or 2 ** 9 == 100} y es de tipo {type(2 ** 11 == 1000 or 2 ** 9 ==100)}\")"
      ],
      "metadata": {
        "colab": {
          "base_uri": "https://localhost:8080/"
        },
        "id": "uaS3pYhPJNIo",
        "outputId": "52566d97-fd07-43f5-853c-5e4dd733d21e"
      },
      "execution_count": null,
      "outputs": [
        {
          "output_type": "stream",
          "name": "stdout",
          "text": [
            "La expresion 2 ** 11 == 1000 or 2 ** 9 ==100 da: False y es de tipo <class 'bool'>\n"
          ]
        }
      ]
    },
    {
      "cell_type": "code",
      "source": [
        "a = 2 ** 11 == 1000 or 2 ** 9 == 100"
      ],
      "metadata": {
        "id": "GSIiRmswLp0G"
      },
      "execution_count": null,
      "outputs": []
    },
    {
      "cell_type": "code",
      "source": [
        "print(f\"La expresion 2 ** 11 == 1000 or 2 ** 9 == 100 da: {a} y es de tipo {type(a)}\")"
      ],
      "metadata": {
        "colab": {
          "base_uri": "https://localhost:8080/"
        },
        "id": "-c_9SS10L4pl",
        "outputId": "62c0c635-8370-499b-fc15-8f53c4cb2a01"
      },
      "execution_count": null,
      "outputs": [
        {
          "output_type": "stream",
          "name": "stdout",
          "text": [
            "La expresion 2 ** 11 == 1000 or 2 ** 9 == 100 da: False y es de tipo <class 'bool'>\n"
          ]
        }
      ]
    },
    {
      "cell_type": "code",
      "source": [
        "#Colocar un tipo de dato antes del dato, se usa para transformar el dato dentro del parenteseis en el dato por fuera del parentesis.\n",
        "int(\"cincuenta\")"
      ],
      "metadata": {
        "colab": {
          "base_uri": "https://localhost:8080/",
          "height": 141
        },
        "id": "MDRlsxR5L9sV",
        "outputId": "60cee8bb-002c-49f7-a1f7-b08b35139081"
      },
      "execution_count": null,
      "outputs": [
        {
          "output_type": "error",
          "ename": "ValueError",
          "evalue": "invalid literal for int() with base 10: 'cincuenta'",
          "traceback": [
            "\u001b[0;31m---------------------------------------------------------------------------\u001b[0m",
            "\u001b[0;31mValueError\u001b[0m                                Traceback (most recent call last)",
            "\u001b[0;32m<ipython-input-14-a15ff880c080>\u001b[0m in \u001b[0;36m<cell line: 1>\u001b[0;34m()\u001b[0m\n\u001b[0;32m----> 1\u001b[0;31m \u001b[0mint\u001b[0m\u001b[0;34m(\u001b[0m\u001b[0;34m\"cincuenta\"\u001b[0m\u001b[0;34m)\u001b[0m\u001b[0;34m\u001b[0m\u001b[0;34m\u001b[0m\u001b[0m\n\u001b[0m",
            "\u001b[0;31mValueError\u001b[0m: invalid literal for int() with base 10: 'cincuenta'"
          ]
        }
      ]
    },
    {
      "cell_type": "code",
      "source": [
        "int(\"50\")"
      ],
      "metadata": {
        "colab": {
          "base_uri": "https://localhost:8080/"
        },
        "id": "biPof_nCNnQT",
        "outputId": "5141b501-ff5d-45a2-d777-f8fd9b201456"
      },
      "execution_count": null,
      "outputs": [
        {
          "output_type": "execute_result",
          "data": {
            "text/plain": [
              "50"
            ]
          },
          "metadata": {},
          "execution_count": 15
        }
      ]
    },
    {
      "cell_type": "code",
      "source": [
        "str(\"50\")"
      ],
      "metadata": {
        "colab": {
          "base_uri": "https://localhost:8080/",
          "height": 35
        },
        "id": "ZdCmOY7cNBnk",
        "outputId": "fb14f2c9-64a7-4d58-9738-47ba1a95af3c"
      },
      "execution_count": null,
      "outputs": [
        {
          "output_type": "execute_result",
          "data": {
            "text/plain": [
              "'50'"
            ],
            "application/vnd.google.colaboratory.intrinsic+json": {
              "type": "string"
            }
          },
          "metadata": {},
          "execution_count": 16
        }
      ]
    },
    {
      "cell_type": "code",
      "source": [
        "#Siempre que halla una división, el resultado dará decimal\n",
        "b=16/16 + 384/24"
      ],
      "metadata": {
        "id": "8VyoWGc5Npv0"
      },
      "execution_count": null,
      "outputs": []
    },
    {
      "cell_type": "code",
      "source": [
        "print(f\"La operacion 16/16 + 384/24 da {b}, y es de tipo {type(b)}\")"
      ],
      "metadata": {
        "colab": {
          "base_uri": "https://localhost:8080/"
        },
        "id": "QaOaqaLGO59D",
        "outputId": "a3b1fc99-40f8-47c9-c8bc-783f90e2f29d"
      },
      "execution_count": null,
      "outputs": [
        {
          "output_type": "stream",
          "name": "stdout",
          "text": [
            "La operacion 16/16 + 384/24 da 17.0, y es de tipo <class 'float'>\n"
          ]
        }
      ]
    },
    {
      "cell_type": "code",
      "source": [
        "# % es el módulo de la operación. (El modulo o MOD es el residuo de la división)\n",
        "600 + 18%2"
      ],
      "metadata": {
        "colab": {
          "base_uri": "https://localhost:8080/"
        },
        "id": "3UboicahPF-8",
        "outputId": "7bdf7ffd-615e-4e5c-8dd3-0c6f5f1c2d17"
      },
      "execution_count": null,
      "outputs": [
        {
          "output_type": "execute_result",
          "data": {
            "text/plain": [
              "600"
            ]
          },
          "metadata": {},
          "execution_count": 21
        }
      ]
    },
    {
      "cell_type": "code",
      "source": [
        "c=0 < (4096%10) < 6"
      ],
      "metadata": {
        "id": "lWCPVMSpPYxS"
      },
      "execution_count": null,
      "outputs": []
    },
    {
      "cell_type": "code",
      "source": [
        "print(f\"La operacion 0 < (4096%10) < 6 da {c} y es de tipo {type(c)}\")"
      ],
      "metadata": {
        "colab": {
          "base_uri": "https://localhost:8080/"
        },
        "id": "UbMYmyG1QlKy",
        "outputId": "c990f19a-3f77-4c04-e61a-20b9ee301d02"
      },
      "execution_count": null,
      "outputs": [
        {
          "output_type": "stream",
          "name": "stdout",
          "text": [
            "La operacion 0 < (4096%10) < 6 da False y es de tipo <class 'bool'>\n"
          ]
        }
      ]
    },
    {
      "cell_type": "code",
      "source": [
        "d= 'Max' + 'Min'"
      ],
      "metadata": {
        "id": "z3danjkSQ9Mh"
      },
      "execution_count": null,
      "outputs": []
    },
    {
      "cell_type": "code",
      "source": [
        "print(f\"La operacion 'Max' + 'Min' da {d} y es de tipo {type(d)}\")"
      ],
      "metadata": {
        "colab": {
          "base_uri": "https://localhost:8080/"
        },
        "id": "qL8JDAVfRC8h",
        "outputId": "e6a6931f-b583-457c-f46a-061cfe920afa"
      },
      "execution_count": null,
      "outputs": [
        {
          "output_type": "stream",
          "name": "stdout",
          "text": [
            "La operacion 'Max' + 'Min' da MaxMin y es de tipo <class 'str'>\n"
          ]
        }
      ]
    },
    {
      "cell_type": "code",
      "source": [
        "#ABC() es una función no definida\n",
        "ABC() + DEF()"
      ],
      "metadata": {
        "colab": {
          "base_uri": "https://localhost:8080/",
          "height": 141
        },
        "id": "p5EnYU6NRLsB",
        "outputId": "a605911a-9eee-4b56-860e-34e2e29bd543"
      },
      "execution_count": null,
      "outputs": [
        {
          "output_type": "error",
          "ename": "NameError",
          "evalue": "name 'ABC' is not defined",
          "traceback": [
            "\u001b[0;31m---------------------------------------------------------------------------\u001b[0m",
            "\u001b[0;31mNameError\u001b[0m                                 Traceback (most recent call last)",
            "\u001b[0;32m<ipython-input-27-38eab809e574>\u001b[0m in \u001b[0;36m<cell line: 1>\u001b[0;34m()\u001b[0m\n\u001b[0;32m----> 1\u001b[0;31m \u001b[0mABC\u001b[0m\u001b[0;34m(\u001b[0m\u001b[0;34m)\u001b[0m \u001b[0;34m+\u001b[0m \u001b[0mDEF\u001b[0m\u001b[0;34m(\u001b[0m\u001b[0;34m)\u001b[0m\u001b[0;34m\u001b[0m\u001b[0;34m\u001b[0m\u001b[0m\n\u001b[0m",
            "\u001b[0;31mNameError\u001b[0m: name 'ABC' is not defined"
          ]
        }
      ]
    },
    {
      "cell_type": "code",
      "source": [
        "float(-int(\"7\")+int('90))"
      ],
      "metadata": {
        "colab": {
          "base_uri": "https://localhost:8080/",
          "height": 106
        },
        "id": "-PcwGPFWSPJf",
        "outputId": "29841bad-bb6e-40f4-b362-1d57a4a06652"
      },
      "execution_count": null,
      "outputs": [
        {
          "output_type": "error",
          "ename": "SyntaxError",
          "evalue": "unterminated string literal (detected at line 1) (<ipython-input-28-c81e33bedfc5>, line 1)",
          "traceback": [
            "\u001b[0;36m  File \u001b[0;32m\"<ipython-input-28-c81e33bedfc5>\"\u001b[0;36m, line \u001b[0;32m1\u001b[0m\n\u001b[0;31m    float(-int(\"7\")+int('90))\u001b[0m\n\u001b[0m                        ^\u001b[0m\n\u001b[0;31mSyntaxError\u001b[0m\u001b[0;31m:\u001b[0m unterminated string literal (detected at line 1)\n"
          ]
        }
      ]
    },
    {
      "cell_type": "markdown",
      "source": [
        "1. abs = valor absoluto.\n",
        "2. len = cuenta la cantidad de letras de un string\n",
        "\n",
        "- len('seis')= 4\n",
        "- len('tres')= 4"
      ],
      "metadata": {
        "id": "bYwhYshTT60_"
      }
    },
    {
      "cell_type": "code",
      "source": [
        "abs(len('seis') - len ('tres'))"
      ],
      "metadata": {
        "colab": {
          "base_uri": "https://localhost:8080/"
        },
        "id": "gVJlEzibTNFf",
        "outputId": "5540199b-9db3-4041-ac1f-3f76766aaebe"
      },
      "execution_count": null,
      "outputs": [
        {
          "output_type": "execute_result",
          "data": {
            "text/plain": [
              "0"
            ]
          },
          "metadata": {},
          "execution_count": 29
        }
      ]
    },
    {
      "cell_type": "code",
      "source": [
        "print(f\"La operación abs(len('seis') - len ('tres')) da {abs(len('seis') - len ('tres'))} y es de tipo {type(abs(len('seis') - len ('tres')))}  \")"
      ],
      "metadata": {
        "colab": {
          "base_uri": "https://localhost:8080/"
        },
        "id": "mSdL2GsNVbwu",
        "outputId": "6fbe248f-b4e1-43bf-8090-b142dc5b9638"
      },
      "execution_count": null,
      "outputs": [
        {
          "output_type": "stream",
          "name": "stdout",
          "text": [
            "La operación abs(len('seis') - len ('tres')) da 0 y es de tipo <class 'int'>  \n"
          ]
        }
      ]
    },
    {
      "cell_type": "code",
      "source": [
        "#Todos los numeros a exepción de 0, da true al convertirlos a booleanos\n",
        "\n",
        "e = bool(1210) or bool (-3465)"
      ],
      "metadata": {
        "id": "9WttxpKeTq3e"
      },
      "execution_count": null,
      "outputs": []
    },
    {
      "cell_type": "code",
      "source": [
        "print(f\"La operación bool(1210) or bool (-3465) da {e} y es de tipo {type(e)}  \")"
      ],
      "metadata": {
        "colab": {
          "base_uri": "https://localhost:8080/"
        },
        "id": "PTmHPXXOU349",
        "outputId": "3fc2c4c5-f4f7-4a57-d5f2-73471428a0a5"
      },
      "execution_count": null,
      "outputs": [
        {
          "output_type": "stream",
          "name": "stdout",
          "text": [
            "La operación bool(1210) or bool (-3465) da True y es de tipo <class 'bool'>  \n"
          ]
        }
      ]
    },
    {
      "cell_type": "code",
      "source": [
        "#Todos los string son listas, por ende podemos conocer la posición de cada uno de sus elemenetos. En python se empieza contando desde 0\n",
        "float(str(int('8' * 3 /3)[3]))"
      ],
      "metadata": {
        "colab": {
          "base_uri": "https://localhost:8080/",
          "height": 141
        },
        "id": "DzI_ZGIPWJSd",
        "outputId": "3a9e94c3-7fb0-4a3e-aaf0-9eab18ab6d79"
      },
      "execution_count": null,
      "outputs": [
        {
          "output_type": "error",
          "ename": "TypeError",
          "evalue": "unsupported operand type(s) for /: 'str' and 'int'",
          "traceback": [
            "\u001b[0;31m---------------------------------------------------------------------------\u001b[0m",
            "\u001b[0;31mTypeError\u001b[0m                                 Traceback (most recent call last)",
            "\u001b[0;32m<ipython-input-37-2461056f32c5>\u001b[0m in \u001b[0;36m<cell line: 1>\u001b[0;34m()\u001b[0m\n\u001b[0;32m----> 1\u001b[0;31m \u001b[0mfloat\u001b[0m\u001b[0;34m(\u001b[0m\u001b[0mstr\u001b[0m\u001b[0;34m(\u001b[0m\u001b[0mint\u001b[0m\u001b[0;34m(\u001b[0m\u001b[0;34m'8'\u001b[0m \u001b[0;34m*\u001b[0m \u001b[0;36m3\u001b[0m \u001b[0;34m/\u001b[0m\u001b[0;36m3\u001b[0m\u001b[0;34m)\u001b[0m\u001b[0;34m[\u001b[0m\u001b[0;36m3\u001b[0m\u001b[0;34m]\u001b[0m\u001b[0;34m)\u001b[0m\u001b[0;34m)\u001b[0m\u001b[0;34m\u001b[0m\u001b[0;34m\u001b[0m\u001b[0m\n\u001b[0m",
            "\u001b[0;31mTypeError\u001b[0m: unsupported operand type(s) for /: 'str' and 'int'"
          ]
        }
      ]
    },
    {
      "cell_type": "code",
      "source": [
        "print(\"Jorge Vasquez, 24/12/06\")"
      ],
      "metadata": {
        "id": "xmtsqAj7WT9c",
        "outputId": "dc0e2e2c-b550-40fb-ea0b-4980afe16f5e",
        "colab": {
          "base_uri": "https://localhost:8080/"
        }
      },
      "execution_count": null,
      "outputs": [
        {
          "output_type": "stream",
          "name": "stdout",
          "text": [
            "Jorge Vasquez, 24/12/06\n"
          ]
        }
      ]
    },
    {
      "cell_type": "code",
      "source": [],
      "metadata": {
        "id": "S43bDZLdXmQj"
      },
      "execution_count": null,
      "outputs": []
    }
  ]
}
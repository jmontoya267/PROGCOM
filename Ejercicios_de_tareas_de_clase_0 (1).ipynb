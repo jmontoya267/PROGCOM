{
  "cells": [
    {
      "cell_type": "markdown",
      "metadata": {
        "id": "LMTngmL8WTCH"
      },
      "source": [
        "# Listado de Ejercicios a realizar"
      ]
    },
    {
      "cell_type": "markdown",
      "metadata": {
        "id": "o1F8rAPeWTCI"
      },
      "source": [
        "## 1. Sin usar el computador, evalúe las siguientes expresiones, y para cada una de ellas indique el resultado y su tipo (si la expresión es válida) o qué error ocurre:\n",
        "\n",
        "### Ejemplo\n",
        "- 2 + 3      # Respuesta: tipo int, valor 5\n",
        "- 4 / 0      # Respuesta: error de división por cero\n",
        "\n",
        "### Ejercicio\n",
        "\n",
        "- 5 + 3 * 4: 17\n",
        "- '5' + '3' * 2\n",
        "- 2 ** 11 == 1000 or 2 ** 9 == 100\n",
        "- int(\"cincuenta\")\n",
        "- 16/16 + 384/24\n",
        "- 600 + 18%\n",
        "- 0 < (4096 % 10) < 6\n",
        "- 'Max' + 'Min'\n",
        "- ABC() * DEF()\n",
        "- float(-int(\"7\")+int('90))\n",
        "- abs(len('seis') - len('tres'))\n",
        "- bool(1210) or bool(-3465)\n",
        "- float(str(int('8' * 3) / 3)[3])"
      ]
    },
    {
      "cell_type": "markdown",
      "metadata": {
        "id": "3ypbOL-AWTCI"
      },
      "source": [
        "#Respuesta\n"
      ]
    },
    {
      "cell_type": "markdown",
      "metadata": {
        "id": "hTD-ALkgWTCI"
      },
      "source": [
        "# 2. Imprima su nombre y fecha\n",
        "- Imprime: Jorge Alvarez - 20-04-2020"
      ]
    },
    {
      "cell_type": "code",
      "execution_count": 2,
      "metadata": {
        "id": "Tgol0HqEWTCJ",
        "colab": {
          "base_uri": "https://localhost:8080/"
        },
        "outputId": "0e5b73f6-9230-479d-cecc-d0086316ec85"
      },
      "outputs": [
        {
          "output_type": "stream",
          "name": "stdout",
          "text": [
            "juan felipe montoya - 15/08/2024\n"
          ]
        }
      ],
      "source": [
        "# Respuesta:\n",
        "print(\"juan felipe montoya - 15/08/2024\")\n"
      ]
    },
    {
      "cell_type": "markdown",
      "metadata": {
        "id": "ayG30b-MWTCJ"
      },
      "source": [
        "# 3. Solicite un nombre y que el programa salude\n",
        "### Ejemplo:\n",
        "- ingreso: 'Andres'\n",
        "- imprime: 'Hola Andres'"
      ]
    },
    {
      "cell_type": "code",
      "execution_count": null,
      "metadata": {
        "id": "wiapNAn4WTCJ",
        "colab": {
          "base_uri": "https://localhost:8080/"
        },
        "outputId": "1f294968-1f14-4bea-fe6e-b1e122e3bbc8"
      },
      "outputs": [
        {
          "output_type": "stream",
          "name": "stdout",
          "text": [
            "Hola, ¿Cómo te llamas? Andres\n",
            "Hola Andres ¿Qué necesitas?\n"
          ]
        }
      ],
      "source": [
        "x=input(\"Hola, ¿Cómo te llamas? \")\n",
        "print(f\"Hola {x} ¿Qué necesitas?\")\n"
      ]
    },
    {
      "cell_type": "markdown",
      "metadata": {
        "id": "CYn33iniWTCK"
      },
      "source": [
        "# 4. Solicite el radio (un numero) de un círculo e imprima como salida su diámetro, perímetro y su área\n",
        "### Ejemplo\n",
        "- ingreso: 3\n",
        "- imprime - Diametro: 6\n",
        "- imprime - Perimetro: 18.84\n",
        "- imprime - Area: 28.27"
      ]
    },
    {
      "cell_type": "code",
      "execution_count": null,
      "metadata": {
        "id": "QR3TreJqWTCK",
        "colab": {
          "base_uri": "https://localhost:8080/"
        },
        "outputId": "6b056351-50e9-4cc7-8668-f909dd742521"
      },
      "outputs": [
        {
          "output_type": "stream",
          "name": "stdout",
          "text": [
            "Ingrese el radio del circulo 3\n",
            "Diametro: 6.0\n",
            "Perimetro: 18.84\n",
            "Area: 28.26\n"
          ]
        }
      ],
      "source": [
        "r=float(input(\"Ingrese el radio del circulo \"))\n",
        "d=r*2\n",
        "p=3.14*d\n",
        "a=3.14*r**2\n",
        "print(f\"Diametro: {d}\")\n",
        "print(f\"Perimetro: {p}\")\n",
        "print(f\"Area: {a}\")"
      ]
    },
    {
      "cell_type": "markdown",
      "metadata": {
        "id": "CnJUFicqWTCK"
      },
      "source": [
        "# 5. Solicite 6 notas y calcule el promedio de ellas\n",
        "### Ejemplo\n",
        "- ingreso: 1 2 3 4 5 6\n",
        "- imprime: 3.5"
      ]
    },
    {
      "cell_type": "code",
      "execution_count": null,
      "metadata": {
        "id": "w4INhZgOWTCK",
        "colab": {
          "base_uri": "https://localhost:8080/"
        },
        "outputId": "7cf6c96b-672e-4da6-8ca7-ad50c6db5723"
      },
      "outputs": [
        {
          "output_type": "stream",
          "name": "stdout",
          "text": [
            "Ingresa las 6 notas del estudiante 1\n",
            "Ingresa las 6 notas del estudiante 2\n",
            "Ingresa las 6 notas del estudiante 3\n",
            "Ingresa las 6 notas del estudiante 4\n",
            "Ingresa las 6 notas del estudiante 5\n",
            "Ingresa las 6 notas del estudiante 6\n",
            "El promedio de las notas es: 3.5\n"
          ]
        }
      ],
      "source": [
        "# Respuesta:\n",
        "\n",
        "n1=float(input(\"Ingresa las 6 notas del estudiante \"))\n",
        "n2=float(input(\"Ingresa las 6 notas del estudiante \"))\n",
        "n3=float(input(\"Ingresa las 6 notas del estudiante \"))\n",
        "n4=float(input(\"Ingresa las 6 notas del estudiante \"))\n",
        "n5=float(input(\"Ingresa las 6 notas del estudiante \"))\n",
        "n6=float(input(\"Ingresa las 6 notas del estudiante \"))\n",
        "\n",
        "totaln=n1+n2+n3+n4+n5+n6\n",
        "prom=totaln/6\n",
        "print(f\"El promedio de las notas es: {prom}\")"
      ]
    },
    {
      "cell_type": "markdown",
      "metadata": {
        "id": "9uGS-7dkWTCK"
      },
      "source": [
        "# 6. Solicite un valor e imprima que tipo de dato es\n",
        "### Ejemplo\n",
        "- ingreso: 'A'\n",
        "- imprime: str\n",
        "- ingreso: 1\n",
        "- imprime: int"
      ]
    },
    {
      "cell_type": "code",
      "execution_count": null,
      "metadata": {
        "id": "qW2J1DjwWTCK",
        "colab": {
          "base_uri": "https://localhost:8080/"
        },
        "outputId": "c49ca3dc-8395-490a-bdcf-74028598dd5d"
      },
      "outputs": [
        {
          "output_type": "stream",
          "name": "stdout",
          "text": [
            "Ingrese el valor deseado 4\n",
            "El valor 4 es de tipo <class 'int'>\n"
          ]
        }
      ],
      "source": [
        "# Respuesta:\n",
        "v=int(float(input(\"Ingrese el valor deseado \")))\n",
        "print(f\"El valor {v} es de tipo {type(v)}\")"
      ]
    },
    {
      "cell_type": "markdown",
      "metadata": {
        "id": "DwYtzwPKWTCK"
      },
      "source": [
        "# 7. Escriba en código la siguiente ecuación\n",
        "$$ \\left(\\frac{5+3}{3-2}\\right)^2$$"
      ]
    },
    {
      "cell_type": "code",
      "source": [
        "# Respuesta\n",
        "e=(5+3)/(3-2)\n",
        "r=e**2\n",
        "print(r)\n"
      ],
      "metadata": {
        "id": "HNgU-6C1Yguq",
        "colab": {
          "base_uri": "https://localhost:8080/"
        },
        "outputId": "97f2c3cd-1306-4bca-c4fb-e878e489f9eb"
      },
      "execution_count": null,
      "outputs": [
        {
          "output_type": "stream",
          "name": "stdout",
          "text": [
            "64.0\n"
          ]
        }
      ]
    },
    {
      "cell_type": "markdown",
      "metadata": {
        "id": "9U9cBSCtWTCL"
      },
      "source": [
        "# 8. Solicite número de horas trabajadas y coste por horas e imprima el valor\n",
        "### Ejemplo:\n",
        "- Ingreso: 4 (horas)\n",
        "- ingreso: 80.000 (precio x hora)\n",
        "- imprime: 320.000"
      ]
    },
    {
      "cell_type": "code",
      "execution_count": null,
      "metadata": {
        "id": "x-dT-cLeWTCL",
        "colab": {
          "base_uri": "https://localhost:8080/"
        },
        "outputId": "ce1cc6a1-3cce-486c-ab53-367effd50915"
      },
      "outputs": [
        {
          "output_type": "stream",
          "name": "stdout",
          "text": [
            "Ingrese el número de horas trabajadas:4\n",
            "Ingrese el valor al cual se liquida cada hora: 80000\n",
            "El valor total a liquidar por las horas trabajadas es de: 320000.0 \n"
          ]
        }
      ],
      "source": [
        "# Respuesta\n",
        "nh = float(input(\"Ingrese el número de horas trabajadas:\"))\n",
        "vh = int(input(\"Ingrese el valor al cual se liquida cada hora: \"))\n",
        "\n",
        "total=nh*vh\n",
        "print(f\"El valor total a liquidar por las horas trabajadas es de: {total} \")\n",
        "\n"
      ]
    },
    {
      "cell_type": "markdown",
      "metadata": {
        "id": "zyktCgr5WTCL"
      },
      "source": [
        "# 9. Solicite la temperatura en grados Celsius e imprima en grados Kelvin y Fahrenheit\n",
        "### Ejemplo:\n",
        "- ingreso: 38 (°C)\n",
        "- imprime: 311.15 °K\n",
        "- imprime: 100.4 °F"
      ]
    },
    {
      "cell_type": "code",
      "execution_count": null,
      "metadata": {
        "id": "-ydgy_YwWTCL",
        "colab": {
          "base_uri": "https://localhost:8080/"
        },
        "outputId": "40c0898b-951a-45ed-9a89-4707255d8310"
      },
      "outputs": [
        {
          "output_type": "stream",
          "name": "stdout",
          "text": [
            "Ingresa la temperatura en grados Celsius: -274\n",
            "La temperatuura en kelvin no puede ser menor a 0\n",
            "La temperatura en fahrenheit es: -216.4\n"
          ]
        }
      ],
      "source": [
        "# Respuesta\n",
        "\n",
        "c=float(input(\"Ingresa la temperatura en grados Celsius: \"))\n",
        "k=c+273.15\n",
        "f=c+32*(9/5)\n",
        "\n",
        "if k < 0:\n",
        "  print(\"La temperatuura en kelvin no puede ser menor a 0\")\n",
        "else:\n",
        "  print(f\"La temperatura en kelvin es: {k}\")\n",
        "\n",
        "\n",
        "print(f\"La temperatura en fahrenheit es: {f}\")\n",
        "\n"
      ]
    },
    {
      "cell_type": "markdown",
      "metadata": {
        "id": "uos8PvG9WTCL"
      },
      "source": [
        "# 10. Solicite 2 numeros e imprima si el segundo es mayor  \n",
        "### Ejemplo:\n",
        "- ingreso: 2\n",
        "- ingreso: 3\n",
        "- impmrime: True"
      ]
    },
    {
      "cell_type": "code",
      "execution_count": null,
      "metadata": {
        "id": "cVxmGhPVWTCL",
        "colab": {
          "base_uri": "https://localhost:8080/"
        },
        "outputId": "16becc55-1c66-4341-a1f2-17c853d8423e"
      },
      "outputs": [
        {
          "output_type": "stream",
          "name": "stdout",
          "text": [
            "Ingrese el primer numero: 5\n",
            "Ingrese el segundo numero: 3\n",
            "False\n"
          ]
        }
      ],
      "source": [
        "# Respuesta\n",
        "n1=float(int(input(\"Ingrese el primer numero: \")))\n",
        "n2=float(int(input(\"Ingrese el segundo numero: \")))\n",
        "\n",
        "if n2>n1:\n",
        "  print(\"True\")\n",
        "else:\n",
        "  print(\"False\")"
      ]
    },
    {
      "cell_type": "markdown",
      "metadata": {
        "id": "wnBR7YdPWTCL"
      },
      "source": [
        "# 11. Solicite 2 numeros e imprima si el segundo es menor  \n",
        "### Ejemplo:\n",
        "- ingreso: 2\n",
        "- ingreso: 3\n",
        "- impmrime: False"
      ]
    },
    {
      "cell_type": "code",
      "execution_count": null,
      "metadata": {
        "id": "9T9-iqzgWTCL",
        "colab": {
          "base_uri": "https://localhost:8080/"
        },
        "outputId": "6944e9dd-765b-42e4-cd24-a0d510533d25"
      },
      "outputs": [
        {
          "output_type": "stream",
          "name": "stdout",
          "text": [
            "Ingrese el primer numero: 5\n",
            "Ingrese el segundo numero: 8\n",
            "False\n"
          ]
        }
      ],
      "source": [
        "# Respuesta\n",
        "\n",
        "n1=float(int(input(\"Ingrese el primer numero: \")))\n",
        "n2=float(int(input(\"Ingrese el segundo numero: \")))\n",
        "\n",
        "if n2<n1:\n",
        "  print(\"True\")\n",
        "else:\n",
        "  print(\"False\")\n"
      ]
    },
    {
      "cell_type": "markdown",
      "metadata": {
        "id": "X3JU40SNWTCL"
      },
      "source": [
        "# 12. Solicite una distancia (metros) y la velocidad (metros/segundos) e imprima el tiempo que se demora el recorrido\n",
        "### Ejemplo:\n",
        "- ingreso: 150 (metros)\n",
        "- ingreso: 15 (metros/segundo)\n",
        "- Imprime: 10 segundos"
      ]
    },
    {
      "cell_type": "code",
      "execution_count": null,
      "metadata": {
        "id": "Q04rEmU9WTCL",
        "colab": {
          "base_uri": "https://localhost:8080/"
        },
        "outputId": "ba439e09-00ad-4e43-da6e-1aabcf9fcced"
      },
      "outputs": [
        {
          "output_type": "stream",
          "name": "stdout",
          "text": [
            "Ingrese la distancia en metros: 150\n",
            "Ingrese la velocidad en metros por segundo: 15\n",
            "El tiempo que demora el recorrido es de: 10.0 s \n"
          ]
        }
      ],
      "source": [
        "# Respuesta\n",
        "\n",
        "d=float(input(\"Ingrese la distancia en metros: \"))\n",
        "v = float(input(\"Ingrese la velocidad en metros por segundo: \"))\n",
        "\n",
        "t=d/v\n",
        "\n",
        "print(f\"El tiempo que demora el recorrido es de: {t} s \")\n"
      ]
    },
    {
      "cell_type": "markdown",
      "metadata": {
        "id": "_8l0zJ0OWTCM"
      },
      "source": [
        "# 13. Solicite al usuario tres valores y escriba en código la siguiente ecuación\n",
        "$$ \\left(\\frac{a+b}{c}\\right) ^2 + \\left(\\frac{a-b}{c}\\right) ^ 2 $$"
      ]
    },
    {
      "cell_type": "code",
      "execution_count": null,
      "metadata": {
        "id": "35NzqYV8WTCM",
        "colab": {
          "base_uri": "https://localhost:8080/"
        },
        "outputId": "8a0d4e67-c36a-4e86-aebd-98239e8f6fd1"
      },
      "outputs": [
        {
          "output_type": "stream",
          "name": "stdout",
          "text": [
            "Ingrese el primer valor: 1\n",
            "Ingrese el primer valor: 3\n",
            "Ingrese el primer valor: 4\n",
            "El resultado de la operacion es igual a: 1.25 \n"
          ]
        }
      ],
      "source": [
        "# Respuesta\n",
        "v1=(float(int(input(\"Ingrese el primer valor: \"))))\n",
        "v2=(float(int(input(\"Ingrese el primer valor: \"))))\n",
        "v3=(float(int(input(\"Ingrese el primer valor: \"))))\n",
        "\n",
        "e=(((v1+v2)/v3))**2 + (((v1-v2))/v3)**2\n",
        "\n",
        "print(f\"El resultado de la operacion es igual a: {e} \")"
      ]
    },
    {
      "cell_type": "markdown",
      "metadata": {
        "id": "KpLmK4psWTCM"
      },
      "source": [
        "# 14. Investigue como se saca la raíz cuadrada de un número en Python y escriba la solución en el cuadro de abajo"
      ]
    },
    {
      "cell_type": "code",
      "execution_count": null,
      "metadata": {
        "id": "hmB61u9KWTCM",
        "colab": {
          "base_uri": "https://localhost:8080/"
        },
        "outputId": "c5538faf-0840-4416-f785-dd8696dbf9a8"
      },
      "outputs": [
        {
          "output_type": "execute_result",
          "data": {
            "text/plain": [
              "9.0"
            ]
          },
          "metadata": {},
          "execution_count": 46
        }
      ],
      "source": [
        "# Respuesta\n",
        "\n",
        "from math import sqrt\n",
        "sqrt(81)\n",
        "\n"
      ]
    },
    {
      "cell_type": "markdown",
      "metadata": {
        "id": "uDskyR69WTCM"
      },
      "source": [
        "# 15.  Con lo anterior solicite 2 numeros (Cateto a y Cateto b) e imprima la hipotenusa.\n",
        "### Ejemplo:\n",
        "- ingreso: 3 (Cateto a)\n",
        "- ingreso: 4 (Cateto b)\n",
        "- imprime: Hipotenusa = 5"
      ]
    },
    {
      "cell_type": "code",
      "execution_count": null,
      "metadata": {
        "id": "TmahDtWwWTCM"
      },
      "outputs": [],
      "source": [
        "# Respuesta\n"
      ]
    },
    {
      "cell_type": "code",
      "execution_count": null,
      "metadata": {
        "id": "LIUNj3nmWTCM",
        "colab": {
          "base_uri": "https://localhost:8080/"
        },
        "outputId": "545f7196-4ec6-4804-8680-8836f3d42fcf"
      },
      "outputs": [
        {
          "output_type": "stream",
          "name": "stdout",
          "text": [
            "Ingrese el primer numero del triangulo rectangulo: 4\n",
            "Ingrese el primer numero del triangulo rectangulo: 3\n",
            "La hipotenusa del triangulo rectangulo es: 5.0 \n"
          ]
        }
      ],
      "source": [
        "c1=float(int(input(\"Ingrese el primer numero del triangulo rectangulo: \")))\n",
        "c2=float(int(input(\"Ingrese el primer numero del triangulo rectangulo: \")))\n",
        "\n",
        "h=sqrt(c1**2 + c2**2)\n",
        "\n",
        "print(f\"La hipotenusa del triangulo rectangulo es: {h} \")\n"
      ]
    },
    {
      "cell_type": "code",
      "source": [],
      "metadata": {
        "id": "YzMaxoobG7bT"
      },
      "execution_count": null,
      "outputs": []
    }
  ],
  "metadata": {
    "kernelspec": {
      "display_name": "Python 3",
      "language": "python",
      "name": "python3"
    },
    "language_info": {
      "codemirror_mode": {
        "name": "ipython",
        "version": 3
      },
      "file_extension": ".py",
      "mimetype": "text/x-python",
      "name": "python",
      "nbconvert_exporter": "python",
      "pygments_lexer": "ipython3",
      "version": "3.8.5"
    },
    "colab": {
      "provenance": [],
      "collapsed_sections": [
        "LMTngmL8WTCH"
      ]
    }
  },
  "nbformat": 4,
  "nbformat_minor": 0
}
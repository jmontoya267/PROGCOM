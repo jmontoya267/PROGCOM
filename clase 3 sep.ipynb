{
  "nbformat": 4,
  "nbformat_minor": 0,
  "metadata": {
    "colab": {
      "provenance": []
    },
    "kernelspec": {
      "name": "python3",
      "display_name": "Python 3"
    },
    "language_info": {
      "name": "python"
    }
  },
  "cells": [
    {
      "cell_type": "code",
      "execution_count": 1,
      "metadata": {
        "colab": {
          "base_uri": "https://localhost:8080/"
        },
        "id": "EtYmGG-lHxRe",
        "outputId": "2fd47f4f-7307-498a-f2d3-4f386bbd61cf"
      },
      "outputs": [
        {
          "output_type": "stream",
          "name": "stdout",
          "text": [
            "ingrese una letra 4\n",
            "4 es una variable de tipo <class 'int'>\n"
          ]
        }
      ],
      "source": [
        "# respuesta pra\n",
        "letra = input(\"ingrese una letra \")\n",
        "num=None\n",
        "for conv in (int,float):\n",
        "  try:\n",
        "    num = conv(letra)\n",
        "    break\n",
        "  except valueError:\n",
        "    pass\n",
        "if num == None: print(f\"{letra} es una variable de tipo {type(letra)}\")\n",
        "else: print(f\"{letra} es una variable de tipo {type(num)}\")"
      ]
    },
    {
      "cell_type": "code",
      "source": [
        "a=int(input(\"ingrese el dividendo\"))\n",
        "b=int(input(\"ingrese el divisor\"))\n",
        "try :\n",
        "  division=a/b\n",
        "  print(f\"{a}/{b}= {division}\")\n",
        "except ZeroDivisionError:\n",
        "  print(\"infinito\")\n",
        ""
      ],
      "metadata": {
        "colab": {
          "base_uri": "https://localhost:8080/"
        },
        "id": "tt8BznRjNFep",
        "outputId": "6c491adc-bac7-4f07-eb80-42146fad7b8c"
      },
      "execution_count": 2,
      "outputs": [
        {
          "output_type": "stream",
          "name": "stdout",
          "text": [
            "ingrese el dividendo5\n",
            "ingrese el divisor0\n",
            "infinito\n"
          ]
        }
      ]
    },
    {
      "cell_type": "code",
      "source": [
        "  a=input(\"quieres helado?\")\n",
        "  a=a [0]. lower()\n",
        "  if a== \"s\":\n",
        "    f=input(\"que sabor quieres?\")\n",
        "    match f:\n",
        "      case \"chocolate\":print(f\"aqui esta su helado de {f}. me debe 5000\")\n",
        "      case \"vainilla\":print(f\"aqui esta su helado de {f}. me debe 4000\")\n",
        "      case \"fresa\":print(f\"aqui esta su helado de {f}. me debe 10000\")\n",
        "      case \"ron con pasas\":print(f\"aqui esta su helado de {f}. me debe 7000\")\n",
        "      case _: print(\"lo siento, no tenemos ese sabor\")\n",
        "  else:\n",
        "      print(\"ta buen... a poco que ni queria\")"
      ],
      "metadata": {
        "colab": {
          "base_uri": "https://localhost:8080/"
        },
        "id": "wIer67WBPjDv",
        "outputId": "9b5f71b0-2883-4b7a-a6c9-dd53e9d34141"
      },
      "execution_count": 7,
      "outputs": [
        {
          "output_type": "stream",
          "name": "stdout",
          "text": [
            "quieres helado?si\n",
            "que sabor quieres?naranja \n",
            "lo siento, no tenemos ese sabor\n"
          ]
        }
      ]
    },
    {
      "cell_type": "code",
      "source": [
        "a=input(\"Ingrese una letra \")\n",
        "a=a[0]\n",
        "if a==\"a\" or a==\"e\" or a==\"i\" or a==\"o\" or a==\"u\": print(\"Es una vocal en minúscula\")\n",
        "elif a==\"A\" or a==\"E\" or a==\"I\" or a==\"O\" or a==\"U\": print(\"Es una vocal en mayúscula\")\n",
        "else: print(\"No es una vocal\")"
      ],
      "metadata": {
        "colab": {
          "base_uri": "https://localhost:8080/"
        },
        "id": "fBomdt-IYo0g",
        "outputId": "2ad3a602-5d4f-4c28-d92f-8720a6f9e209"
      },
      "execution_count": 8,
      "outputs": [
        {
          "output_type": "stream",
          "name": "stdout",
          "text": [
            "Ingrese una letra m\n",
            "No es una vocal\n"
          ]
        }
      ]
    },
    {
      "cell_type": "code",
      "source": [
        "a=input(\"Ingrese una letra \")\n",
        "a=a[0]\n",
        "match a:\n",
        "  case \"a\": print(\"Es una vocal en minúscula\")\n",
        "  case \"A\": print(\"Es una vocal en mayúscula\")\n",
        "  case \"e\": print(\"Es una vocal en minúscula\")\n",
        "  case \"E\": print(\"Es una vocal en mayúscula\")\n",
        "  case \"i\": print(\"Es una vocal en minúscula\")\n",
        "  case \"I\": print(\"Es una vocal en mayúscula\")\n",
        "  case \"o\": print(\"Es una vocal en minúscula\")\n",
        "  case \"O\": print(\"Es una vocal en mayúscula\")\n",
        "  case \"u\": print(\"Es una vocal en minúscula\")\n",
        "  case \"U\": print(\"Es una vocal en mayúscula\")\n",
        "  case _: print(\"No es una vocal\")\n"
      ],
      "metadata": {
        "colab": {
          "base_uri": "https://localhost:8080/"
        },
        "id": "gL-iAkz9XUqA",
        "outputId": "7b42b9aa-922b-45d8-dcee-046d2b5f84d0"
      },
      "execution_count": 10,
      "outputs": [
        {
          "output_type": "stream",
          "name": "stdout",
          "text": [
            "Ingrese una letra e\n",
            "Es una vocal en minúscula\n"
          ]
        }
      ]
    },
    {
      "cell_type": "code",
      "source": [
        "N1 = int(input(\"Ingrese el primer número: \"))\n",
        "N2 = int(input(\"Ingrese el segundo número: \"))\n",
        "N3 = int(input(\"Ingrese el tercer número: \"))\n",
        "N4 = int(input(\"Ingrese el cuarto número: \"))\n",
        "N5 = int(input(\"Ingrese el quinto número: \"))\n",
        "\n",
        "\n",
        "if len(set([N1, N2, N3, N4, N5])) != 5:\n",
        "    print(\"Error: Los números deben ser diferentes.\")\n",
        "else:\n",
        "\n",
        "    if N1 > N2 and N1 > N3 and N1 > N4 and N1 > N5: mayor = N1\n",
        "    elif N2 > N1 and N2 > N3 and N2 > N4 and N2 > N5: mayor = N2\n",
        "    elif N3 > N1 and N3 > N2 and N3 > N4 and N3 > N5: mayor = N3\n",
        "    elif N4 > N1 and N4 > N2 and N4 > N3 and N4 > N5: mayor = N4\n",
        "    else: mayor = N5\n",
        "\n",
        "    print(f\"El número mayor es: {mayor}\")"
      ],
      "metadata": {
        "colab": {
          "base_uri": "https://localhost:8080/"
        },
        "id": "lj8Ah6W8c-sr",
        "outputId": "cead4dee-57fb-4599-f83e-355fd50ec98c"
      },
      "execution_count": 11,
      "outputs": [
        {
          "output_type": "stream",
          "name": "stdout",
          "text": [
            "Ingrese el primer número: 7\n",
            "Ingrese el segundo número: 3\n",
            "Ingrese el tercer número: 8\n",
            "Ingrese el cuarto número: 9\n",
            "Ingrese el quinto número: 1\n",
            "El número mayor es: 9\n"
          ]
        }
      ]
    },
    {
      "cell_type": "code",
      "source": [
        "numero = int(input(\"Ingrese un número del 0 al 9: \"))\n",
        "\n",
        "match numero:\n",
        "    case n if n < 0 or n > 9:\n",
        "        print(\"El número no pertenece al rango del 0 al 9\")\n",
        "    case n if n % 2 == 0:\n",
        "        print(f\"El número {n} es par\")\n",
        "    case _:\n",
        "        print(f\"El número {numero} es impar\")"
      ],
      "metadata": {
        "id": "QfXs64pBhBBq"
      },
      "execution_count": null,
      "outputs": []
    },
    {
      "cell_type": "code",
      "source": [
        "numero = int(input(\"Ingrese un número del 0 al 9: \"))\n",
        "\n",
        "if numero < 0 or numero > 9:\n",
        "    print(\"El número no pertenece al rango del 0 al 9\")\n",
        "elif numero % 2 == 0:\n",
        "    print(f\"El número {numero} es par\")\n",
        "else:\n",
        "    print(f\"El número {numero} es impar\")"
      ],
      "metadata": {
        "id": "ATaYhuj4hDq_"
      },
      "execution_count": null,
      "outputs": []
    },
    {
      "cell_type": "code",
      "source": [
        "caracter = input(\"Ingrese un carácter: \")\n",
        "\n",
        "match caracter:\n",
        "    case 'A' | 'E' | 'I' | 'O' | 'U':\n",
        "        print(f\"La letra '{caracter}' es una vocal mayúscula.\")\n",
        "    case 'a' | 'e' | 'i' | 'o' | 'u':\n",
        "        print(f\"La letra '{caracter}' es una vocal minúscula.\")\n",
        "    case _:\n",
        "        print(f\"La letra '{caracter}' no es una vocal.\")"
      ],
      "metadata": {
        "id": "HTvsNECYhGGH"
      },
      "execution_count": null,
      "outputs": []
    },
    {
      "cell_type": "code",
      "source": [
        "caracter = input(\"Ingrese un carácter: \")\n",
        "\n",
        "if caracter == 'A' or caracter == 'E' or caracter == 'I' or caracter == 'O' or caracter == 'U':\n",
        "    print(f\"La letra '{caracter}' es una vocal mayúscula.\")\n",
        "elif caracter == 'a' or caracter == 'e' or caracter == 'i' or caracter == 'o' or caracter == 'u':\n",
        "    print(f\"La letra '{caracter}' es una vocal minúscula.\")\n",
        "else:\n",
        "    print(f\"La letra '{caracter}' no es una vocal.\")"
      ],
      "metadata": {
        "id": "ehCntqCohIy3"
      },
      "execution_count": null,
      "outputs": []
    },
    {
      "cell_type": "code",
      "source": [
        "# Pedir la edad de las 3 personas\n",
        "edad1 = int(input(\"Ingrese la edad de la primera persona: \"))\n",
        "edad2 = int(input(\"Ingrese la edad de la segunda persona: \"))\n",
        "edad3 = int(input(\"Ingrese la edad de la tercera persona: \"))\n",
        "\n",
        "mayor_edad = edad1 if edad1 > edad2 and edad1 > edad3 else edad2 if edad2 > edad1 and edad2 > edad3 else edad3\n",
        "\n",
        "categoria = \"adulto\" if mayor_edad >= 18 else \"adolescente\" if mayor_edad >= 13 else \"niño\"\n",
        "\n",
        "print(\"La persona mayor tiene\", mayor_edad, \"años y es un\", categoria)"
      ],
      "metadata": {
        "id": "E0wuEh8-hLnn"
      },
      "execution_count": null,
      "outputs": []
    }
  ]
}